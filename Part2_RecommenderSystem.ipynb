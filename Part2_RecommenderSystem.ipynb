{
 "cells": [
  {
   "cell_type": "code",
   "execution_count": 68,
   "id": "8e6e8e19-0986-42e1-919e-9efd46b3c8f9",
   "metadata": {},
   "outputs": [],
   "source": [
    "import pandas as pd\n",
    "import numpy as np\n",
    "from sklearn.metrics.pairwise import cosine_similarity"
   ]
  },
  {
   "cell_type": "code",
   "execution_count": 70,
   "id": "0afbb85e-b1f2-4db3-9bec-b184b4915144",
   "metadata": {},
   "outputs": [],
   "source": [
    "# Step 1: Loading the dataset\n",
    "\n",
    "\n",
    "ratings = pd.read_csv('ratings.csv')\n",
    "movies = pd.read_csv('movies.csv')"
   ]
  },
  {
   "cell_type": "code",
   "execution_count": 72,
   "id": "27da8279-6f17-44ed-a849-b9b1b457653f",
   "metadata": {},
   "outputs": [
    {
     "name": "stdout",
     "output_type": "stream",
     "text": [
      "movieId  1       2       3       4       5       6       7       8       \\\n",
      "userId                                                                    \n",
      "1           4.0     NaN     4.0     NaN     NaN     4.0     NaN     NaN   \n",
      "2           NaN     NaN     NaN     NaN     NaN     NaN     NaN     NaN   \n",
      "3           NaN     NaN     NaN     NaN     NaN     NaN     NaN     NaN   \n",
      "4           NaN     NaN     NaN     NaN     NaN     NaN     NaN     NaN   \n",
      "5           4.0     NaN     NaN     NaN     NaN     NaN     NaN     NaN   \n",
      "...         ...     ...     ...     ...     ...     ...     ...     ...   \n",
      "606         2.5     NaN     NaN     NaN     NaN     NaN     2.5     NaN   \n",
      "607         4.0     NaN     NaN     NaN     NaN     NaN     NaN     NaN   \n",
      "608         2.5     2.0     2.0     NaN     NaN     NaN     NaN     NaN   \n",
      "609         3.0     NaN     NaN     NaN     NaN     NaN     NaN     NaN   \n",
      "610         5.0     NaN     NaN     NaN     NaN     5.0     NaN     NaN   \n",
      "\n",
      "movieId  9       10      ...  193565  193567  193571  193573  193579  193581  \\\n",
      "userId                   ...                                                   \n",
      "1           NaN     NaN  ...     NaN     NaN     NaN     NaN     NaN     NaN   \n",
      "2           NaN     NaN  ...     NaN     NaN     NaN     NaN     NaN     NaN   \n",
      "3           NaN     NaN  ...     NaN     NaN     NaN     NaN     NaN     NaN   \n",
      "4           NaN     NaN  ...     NaN     NaN     NaN     NaN     NaN     NaN   \n",
      "5           NaN     NaN  ...     NaN     NaN     NaN     NaN     NaN     NaN   \n",
      "...         ...     ...  ...     ...     ...     ...     ...     ...     ...   \n",
      "606         NaN     NaN  ...     NaN     NaN     NaN     NaN     NaN     NaN   \n",
      "607         NaN     NaN  ...     NaN     NaN     NaN     NaN     NaN     NaN   \n",
      "608         NaN     4.0  ...     NaN     NaN     NaN     NaN     NaN     NaN   \n",
      "609         NaN     4.0  ...     NaN     NaN     NaN     NaN     NaN     NaN   \n",
      "610         NaN     NaN  ...     NaN     NaN     NaN     NaN     NaN     NaN   \n",
      "\n",
      "movieId  193583  193585  193587  193609  \n",
      "userId                                   \n",
      "1           NaN     NaN     NaN     NaN  \n",
      "2           NaN     NaN     NaN     NaN  \n",
      "3           NaN     NaN     NaN     NaN  \n",
      "4           NaN     NaN     NaN     NaN  \n",
      "5           NaN     NaN     NaN     NaN  \n",
      "...         ...     ...     ...     ...  \n",
      "606         NaN     NaN     NaN     NaN  \n",
      "607         NaN     NaN     NaN     NaN  \n",
      "608         NaN     NaN     NaN     NaN  \n",
      "609         NaN     NaN     NaN     NaN  \n",
      "610         NaN     NaN     NaN     NaN  \n",
      "\n",
      "[610 rows x 9724 columns]\n"
     ]
    }
   ],
   "source": [
    "# Step 2: Creating user-item rating matrix\n",
    "\n",
    "\n",
    "rating_matrix = ratings.pivot_table(index='userId', columns='movieId', values='rating')\n",
    "\n",
    "print (rating_matrix)"
   ]
  },
  {
   "cell_type": "code",
   "execution_count": 74,
   "id": "d0062902-1c62-4a2b-a20c-a4397ad93f28",
   "metadata": {},
   "outputs": [
    {
     "name": "stdout",
     "output_type": "stream",
     "text": [
      "movieId    1         2         3       4       5         6         7       \\\n",
      "userId                                                                      \n",
      "1       -0.366379       NaN -0.366379     NaN     NaN -0.366379       NaN   \n",
      "2             NaN       NaN       NaN     NaN     NaN       NaN       NaN   \n",
      "3             NaN       NaN       NaN     NaN     NaN       NaN       NaN   \n",
      "4             NaN       NaN       NaN     NaN     NaN       NaN       NaN   \n",
      "5        0.363636       NaN       NaN     NaN     NaN       NaN       NaN   \n",
      "...           ...       ...       ...     ...     ...       ...       ...   \n",
      "606     -1.157399       NaN       NaN     NaN     NaN       NaN -1.157399   \n",
      "607      0.213904       NaN       NaN     NaN     NaN       NaN       NaN   \n",
      "608     -0.634176 -1.134176 -1.134176     NaN     NaN       NaN       NaN   \n",
      "609     -0.270270       NaN       NaN     NaN     NaN       NaN       NaN   \n",
      "610      1.311444       NaN       NaN     NaN     NaN  1.311444       NaN   \n",
      "\n",
      "movieId  8       9         10      ...  193565  193567  193571  193573  \\\n",
      "userId                             ...                                   \n",
      "1           NaN     NaN       NaN  ...     NaN     NaN     NaN     NaN   \n",
      "2           NaN     NaN       NaN  ...     NaN     NaN     NaN     NaN   \n",
      "3           NaN     NaN       NaN  ...     NaN     NaN     NaN     NaN   \n",
      "4           NaN     NaN       NaN  ...     NaN     NaN     NaN     NaN   \n",
      "5           NaN     NaN       NaN  ...     NaN     NaN     NaN     NaN   \n",
      "...         ...     ...       ...  ...     ...     ...     ...     ...   \n",
      "606         NaN     NaN       NaN  ...     NaN     NaN     NaN     NaN   \n",
      "607         NaN     NaN       NaN  ...     NaN     NaN     NaN     NaN   \n",
      "608         NaN     NaN  0.865824  ...     NaN     NaN     NaN     NaN   \n",
      "609         NaN     NaN  0.729730  ...     NaN     NaN     NaN     NaN   \n",
      "610         NaN     NaN       NaN  ...     NaN     NaN     NaN     NaN   \n",
      "\n",
      "movieId  193579  193581  193583  193585  193587  193609  \n",
      "userId                                                   \n",
      "1           NaN     NaN     NaN     NaN     NaN     NaN  \n",
      "2           NaN     NaN     NaN     NaN     NaN     NaN  \n",
      "3           NaN     NaN     NaN     NaN     NaN     NaN  \n",
      "4           NaN     NaN     NaN     NaN     NaN     NaN  \n",
      "5           NaN     NaN     NaN     NaN     NaN     NaN  \n",
      "...         ...     ...     ...     ...     ...     ...  \n",
      "606         NaN     NaN     NaN     NaN     NaN     NaN  \n",
      "607         NaN     NaN     NaN     NaN     NaN     NaN  \n",
      "608         NaN     NaN     NaN     NaN     NaN     NaN  \n",
      "609         NaN     NaN     NaN     NaN     NaN     NaN  \n",
      "610         NaN     NaN     NaN     NaN     NaN     NaN  \n",
      "\n",
      "[610 rows x 9724 columns]\n"
     ]
    }
   ],
   "source": [
    "# Step 3: Mean centering the matrix (for Adjusted Cosine Similarity)\n",
    "\n",
    "\n",
    "rating_matrix_centered = rating_matrix.sub(rating_matrix.mean(axis=1), axis=0)\n",
    "\n",
    "print (rating_matrix_centered)"
   ]
  },
  {
   "cell_type": "code",
   "execution_count": 76,
   "id": "5b57c42e-8fb3-49ad-b5a6-802af568cdae",
   "metadata": {},
   "outputs": [
    {
     "name": "stdout",
     "output_type": "stream",
     "text": [
      "movieId    1         2         3       4       5         6         7       \\\n",
      "userId                                                                      \n",
      "1       -0.366379  0.000000 -0.366379     0.0     0.0 -0.366379  0.000000   \n",
      "2        0.000000  0.000000  0.000000     0.0     0.0  0.000000  0.000000   \n",
      "3        0.000000  0.000000  0.000000     0.0     0.0  0.000000  0.000000   \n",
      "4        0.000000  0.000000  0.000000     0.0     0.0  0.000000  0.000000   \n",
      "5        0.363636  0.000000  0.000000     0.0     0.0  0.000000  0.000000   \n",
      "...           ...       ...       ...     ...     ...       ...       ...   \n",
      "606     -1.157399  0.000000  0.000000     0.0     0.0  0.000000 -1.157399   \n",
      "607      0.213904  0.000000  0.000000     0.0     0.0  0.000000  0.000000   \n",
      "608     -0.634176 -1.134176 -1.134176     0.0     0.0  0.000000  0.000000   \n",
      "609     -0.270270  0.000000  0.000000     0.0     0.0  0.000000  0.000000   \n",
      "610      1.311444  0.000000  0.000000     0.0     0.0  1.311444  0.000000   \n",
      "\n",
      "movieId  8       9         10      ...  193565  193567  193571  193573  \\\n",
      "userId                             ...                                   \n",
      "1           0.0     0.0  0.000000  ...     0.0     0.0     0.0     0.0   \n",
      "2           0.0     0.0  0.000000  ...     0.0     0.0     0.0     0.0   \n",
      "3           0.0     0.0  0.000000  ...     0.0     0.0     0.0     0.0   \n",
      "4           0.0     0.0  0.000000  ...     0.0     0.0     0.0     0.0   \n",
      "5           0.0     0.0  0.000000  ...     0.0     0.0     0.0     0.0   \n",
      "...         ...     ...       ...  ...     ...     ...     ...     ...   \n",
      "606         0.0     0.0  0.000000  ...     0.0     0.0     0.0     0.0   \n",
      "607         0.0     0.0  0.000000  ...     0.0     0.0     0.0     0.0   \n",
      "608         0.0     0.0  0.865824  ...     0.0     0.0     0.0     0.0   \n",
      "609         0.0     0.0  0.729730  ...     0.0     0.0     0.0     0.0   \n",
      "610         0.0     0.0  0.000000  ...     0.0     0.0     0.0     0.0   \n",
      "\n",
      "movieId  193579  193581  193583  193585  193587  193609  \n",
      "userId                                                   \n",
      "1           0.0     0.0     0.0     0.0     0.0     0.0  \n",
      "2           0.0     0.0     0.0     0.0     0.0     0.0  \n",
      "3           0.0     0.0     0.0     0.0     0.0     0.0  \n",
      "4           0.0     0.0     0.0     0.0     0.0     0.0  \n",
      "5           0.0     0.0     0.0     0.0     0.0     0.0  \n",
      "...         ...     ...     ...     ...     ...     ...  \n",
      "606         0.0     0.0     0.0     0.0     0.0     0.0  \n",
      "607         0.0     0.0     0.0     0.0     0.0     0.0  \n",
      "608         0.0     0.0     0.0     0.0     0.0     0.0  \n",
      "609         0.0     0.0     0.0     0.0     0.0     0.0  \n",
      "610         0.0     0.0     0.0     0.0     0.0     0.0  \n",
      "\n",
      "[610 rows x 9724 columns]\n"
     ]
    }
   ],
   "source": [
    "# Step 4: Replacing the NaNs with 0 for similarity computation\n",
    "\n",
    "\n",
    "rating_filled = rating_matrix_centered.fillna(0)\n",
    "\n",
    "\n",
    "print (rating_filled)"
   ]
  },
  {
   "cell_type": "code",
   "execution_count": 78,
   "id": "9d5f7f3e-ad24-412c-a6f9-f692112684a5",
   "metadata": {},
   "outputs": [
    {
     "name": "stdout",
     "output_type": "stream",
     "text": [
      "movieId    1         2         3         4         5         6         7       \\\n",
      "movieId                                                                         \n",
      "1        1.000000  0.061511  0.051260 -0.036175 -0.140422  0.089142 -0.039411   \n",
      "2        0.061511  1.000000  0.056252 -0.106873  0.081893 -0.031387  0.020577   \n",
      "3        0.051260  0.056252  1.000000 -0.035193  0.100357 -0.008854  0.060727   \n",
      "4       -0.036175 -0.106873 -0.035193  1.000000  0.021928 -0.017004  0.007410   \n",
      "5       -0.140422  0.081893  0.100357  0.021928  1.000000 -0.052783  0.146651   \n",
      "...           ...       ...       ...       ...       ...       ...       ...   \n",
      "193581   0.000000  0.000000  0.000000  0.000000  0.000000  0.000000  0.000000   \n",
      "193583   0.000000  0.000000  0.000000  0.000000  0.000000  0.000000  0.000000   \n",
      "193585   0.000000  0.000000  0.000000  0.000000  0.000000  0.000000  0.000000   \n",
      "193587   0.000000  0.000000  0.000000  0.000000  0.000000  0.000000  0.000000   \n",
      "193609   0.000000  0.000000  0.000000  0.000000  0.000000  0.000000  0.000000   \n",
      "\n",
      "movieId    8         9         10      ...  193565  193567  193571  193573  \\\n",
      "movieId                                ...                                   \n",
      "1        0.003109 -0.105122 -0.053247  ...     0.0     0.0     0.0     0.0   \n",
      "2        0.053926 -0.009668 -0.131687  ...     0.0     0.0     0.0     0.0   \n",
      "3       -0.057899 -0.011744 -0.107283  ...     0.0     0.0     0.0     0.0   \n",
      "4        0.024516  0.000000  0.118102  ...     0.0     0.0     0.0     0.0   \n",
      "5        0.002130  0.097845  0.026574  ...     0.0     0.0     0.0     0.0   \n",
      "...           ...       ...       ...  ...     ...     ...     ...     ...   \n",
      "193581   0.000000  0.000000  0.000000  ...    -1.0    -1.0     1.0     1.0   \n",
      "193583   0.000000  0.000000  0.000000  ...     1.0     1.0    -1.0    -1.0   \n",
      "193585   0.000000  0.000000  0.000000  ...     1.0     1.0    -1.0    -1.0   \n",
      "193587   0.000000  0.000000  0.000000  ...     1.0     1.0    -1.0    -1.0   \n",
      "193609   0.000000  0.000000 -0.071749  ...     0.0     0.0     0.0     0.0   \n",
      "\n",
      "movieId  193579  193581  193583  193585  193587  193609  \n",
      "movieId                                                  \n",
      "1           0.0     0.0     0.0     0.0     0.0     0.0  \n",
      "2           0.0     0.0     0.0     0.0     0.0     0.0  \n",
      "3           0.0     0.0     0.0     0.0     0.0     0.0  \n",
      "4           0.0     0.0     0.0     0.0     0.0     0.0  \n",
      "5           0.0     0.0     0.0     0.0     0.0     0.0  \n",
      "...         ...     ...     ...     ...     ...     ...  \n",
      "193581     -1.0     1.0    -1.0    -1.0    -1.0     0.0  \n",
      "193583      1.0    -1.0     1.0     1.0     1.0     0.0  \n",
      "193585      1.0    -1.0     1.0     1.0     1.0     0.0  \n",
      "193587      1.0    -1.0     1.0     1.0     1.0     0.0  \n",
      "193609      0.0     0.0     0.0     0.0     0.0     1.0  \n",
      "\n",
      "[9724 rows x 9724 columns]\n"
     ]
    }
   ],
   "source": [
    "# Step 5: Computing Adjusted Cosine Similarity (item-item)\n",
    "\n",
    "\n",
    "item_sim = cosine_similarity(rating_filled.T)\n",
    "item_sim_df = pd.DataFrame(item_sim, index=rating_filled.columns, columns=rating_filled.columns)\n",
    "\n",
    "print (item_sim_df)"
   ]
  },
  {
   "cell_type": "code",
   "execution_count": 82,
   "id": "69586ff4-a33c-4911-9d9d-7eefbdc5faa5",
   "metadata": {},
   "outputs": [],
   "source": [
    "# Step 6: Creating function to recommend top-5 similar movies\n",
    "\n",
    "\n",
    "\n",
    "def recommend_similar_movies(movie_name, top_n=5):\n",
    "    \n",
    "    # Getting movieId for a given movie name\n",
    "    \n",
    "    try:\n",
    "        movie_id = movies[movies['title'].str.contains(movie_name, case=False, regex=False)].iloc[0]['movieId']\n",
    "    except IndexError:\n",
    "        print(f\"No movie found for '{movie_name}'\")\n",
    "        return\n",
    "\n",
    "    # Getting similarity scores for that movie\n",
    "    \n",
    "    if movie_id not in item_sim_df:\n",
    "        print(\"Movie ID not found in similarity matrix.\")\n",
    "        return\n",
    "\n",
    "    sim_scores = item_sim_df[movie_id].drop(movie_id)\n",
    "    top_movies = sim_scores.sort_values(ascending=False).head(top_n)\n",
    "\n",
    "# Printing recommended movies\n",
    "    \n",
    "    print(f\"\\nTop {top_n} recommendations for '{movie_name}':\")\n",
    "    for mid in top_movies.index:\n",
    "        title = movies[movies['movieId'] == mid].iloc[0]['title']\n",
    "        print(f\"- {title} (Similarity: {top_movies[mid]:.3f})\")"
   ]
  },
  {
   "cell_type": "code",
   "execution_count": 84,
   "id": "373ea7df-6fdc-490a-90cc-da1bd2cbfea9",
   "metadata": {},
   "outputs": [
    {
     "name": "stdin",
     "output_type": "stream",
     "text": [
      "Enter a movie name:  Toy story\n"
     ]
    },
    {
     "name": "stdout",
     "output_type": "stream",
     "text": [
      "\n",
      "Top 5 recommendations for 'Toy story':\n",
      "- Toy Story 2 (1999) (Similarity: 0.403)\n",
      "- Toy Story 3 (2010) (Similarity: 0.327)\n",
      "- Aladdin (1992) (Similarity: 0.327)\n",
      "- Wallace & Gromit: The Wrong Trousers (1993) (Similarity: 0.305)\n",
      "- Back to the Future (1985) (Similarity: 0.277)\n"
     ]
    }
   ],
   "source": [
    "# Example usage 1 = Toy Story\n",
    "\n",
    "\n",
    "movie_input = input(\"Enter a movie name: \")\n",
    "recommend_similar_movies(movie_input)"
   ]
  },
  {
   "cell_type": "code",
   "execution_count": 86,
   "id": "6ad5ed3c-59cd-465e-8af4-2cf663fc74db",
   "metadata": {},
   "outputs": [
    {
     "name": "stdin",
     "output_type": "stream",
     "text": [
      "Enter a movie name:  Jumanji\n"
     ]
    },
    {
     "name": "stdout",
     "output_type": "stream",
     "text": [
      "\n",
      "Top 5 recommendations for 'Jumanji':\n",
      "- Loser (1991) (Similarity: 0.288)\n",
      "- Return from Witch Mountain (1978) (Similarity: 0.267)\n",
      "- Bad Words (2013) (Similarity: 0.264)\n",
      "- Timeline (2003) (Similarity: 0.263)\n",
      "- Synecdoche, New York (2008) (Similarity: 0.258)\n"
     ]
    }
   ],
   "source": [
    "# Example usage 2 = Jumanji\n",
    "\n",
    "\n",
    "movie_input = input(\"Enter a movie name: \")\n",
    "recommend_similar_movies(movie_input)"
   ]
  },
  {
   "cell_type": "code",
   "execution_count": 88,
   "id": "cc18326a-a873-4e63-b82d-e9970fa54e7f",
   "metadata": {},
   "outputs": [
    {
     "name": "stdin",
     "output_type": "stream",
     "text": [
      "Enter a movie name:  Titanic\n"
     ]
    },
    {
     "name": "stdout",
     "output_type": "stream",
     "text": [
      "\n",
      "Top 5 recommendations for 'Titanic':\n",
      "- Miami Vice (2006) (Similarity: 0.276)\n",
      "- Batman & Robin (1997) (Similarity: 0.236)\n",
      "- Teenage Mutant Ninja Turtles III (1993) (Similarity: 0.235)\n",
      "- Daddy Day Camp (2007) (Similarity: 0.226)\n",
      "- Hamlet 2 (2008) (Similarity: 0.226)\n"
     ]
    }
   ],
   "source": [
    "# Example usage 3 = Titanic\n",
    "\n",
    "\n",
    "movie_input = input(\"Enter a movie name: \")\n",
    "recommend_similar_movies(movie_input)"
   ]
  },
  {
   "cell_type": "code",
   "execution_count": 90,
   "id": "88fc9bd9-2c84-413c-9174-2a14cb2ad16c",
   "metadata": {},
   "outputs": [
    {
     "name": "stdin",
     "output_type": "stream",
     "text": [
      "Enter a movie name:  Batman\n"
     ]
    },
    {
     "name": "stdout",
     "output_type": "stream",
     "text": [
      "\n",
      "Top 5 recommendations for 'Batman':\n",
      "- Batman & Robin (1997) (Similarity: 0.313)\n",
      "- My Crazy Life (Mi vida loca) (1993) (Similarity: 0.306)\n",
      "- Clockers (1995) (Similarity: 0.291)\n",
      "- Batman Returns (1992) (Similarity: 0.257)\n",
      "- Replacement Killers, The (1998) (Similarity: 0.254)\n"
     ]
    }
   ],
   "source": [
    "# Example usage 4 = Batman\n",
    "\n",
    "\n",
    "movie_input = input(\"Enter a movie name: \")\n",
    "recommend_similar_movies(movie_input)"
   ]
  },
  {
   "cell_type": "code",
   "execution_count": 92,
   "id": "10d70556-3ac8-45d3-aea5-88a2c2f203c4",
   "metadata": {},
   "outputs": [
    {
     "name": "stdin",
     "output_type": "stream",
     "text": [
      "Enter a movie name:  blahhhh\n"
     ]
    },
    {
     "name": "stdout",
     "output_type": "stream",
     "text": [
      "No movie found for 'blahhhh'\n"
     ]
    }
   ],
   "source": [
    "# failed Example usage 5 = blahhhh\n",
    "\n",
    "\n",
    "movie_input = input(\"Enter a movie name: \")\n",
    "recommend_similar_movies(movie_input)"
   ]
  }
 ],
 "metadata": {
  "kernelspec": {
   "display_name": "Python [conda env:base] *",
   "language": "python",
   "name": "conda-base-py"
  },
  "language_info": {
   "codemirror_mode": {
    "name": "ipython",
    "version": 3
   },
   "file_extension": ".py",
   "mimetype": "text/x-python",
   "name": "python",
   "nbconvert_exporter": "python",
   "pygments_lexer": "ipython3",
   "version": "3.12.7"
  }
 },
 "nbformat": 4,
 "nbformat_minor": 5
}
